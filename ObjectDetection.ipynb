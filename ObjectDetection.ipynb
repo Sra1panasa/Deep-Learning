{
  "nbformat": 4,
  "nbformat_minor": 0,
  "metadata": {
    "colab": {
      "name": "Untitled1.ipynb",
      "provenance": [],
      "authorship_tag": "ABX9TyPoCyZKV6ymsUd5QKPHMoAn",
      "include_colab_link": true
    },
    "kernelspec": {
      "name": "python3",
      "display_name": "Python 3"
    },
    "language_info": {
      "name": "python"
    }
  },
  "cells": [
    {
      "cell_type": "markdown",
      "metadata": {
        "id": "view-in-github",
        "colab_type": "text"
      },
      "source": [
        "<a href=\"https://colab.research.google.com/github/Sra1panasa/Deep-Learning/blob/main/ObjectDetection.ipynb\" target=\"_parent\"><img src=\"https://colab.research.google.com/assets/colab-badge.svg\" alt=\"Open In Colab\"/></a>"
      ]
    },
    {
      "cell_type": "markdown",
      "metadata": {
        "id": "u27qXb4RnYGt"
      },
      "source": [
        "**Object Detection:**\n",
        "\n",
        "* Batch size is a term used in machine learning and refers to the number of training examples utilized in one iteration\n",
        "\n",
        "* The number of training examples used in the estimate of the error gradient is a hyperparameter for the learning algorithm called the “batch size,” or simply the “batch.”\n",
        "\n",
        "* A batch size of 32 means that 32 samples from the training dataset will be used to estimate the error gradient before the model weights are updated. One training epoch means that the learning algorithm has made one pass through the training dataset, where examples were separated into randomly selected “batch size” groups.\n",
        "\n",
        "* one epoch = one forward pass and one backward pass of all the training examples\n",
        "batch size = the number of training examples in one forward/backward pass. The higher the batch size, the more memory space you'll need.\n",
        "number of iterations = number of passes, each pass using [batch size] number of examples. To be clear, one pass = one forward pass + one backward pass (we do not count the forward pass and backward pass as two different passes).\n",
        "\n",
        " **Example if you have 1000 training examples, and your batch size is 500, then it will take 2 iterations to complete 1 epoch**\n",
        "\n",
        "\n"
      ]
    }
  ]
}