{
  "nbformat": 4,
  "nbformat_minor": 0,
  "metadata": {
    "colab": {
      "name": "Untitled12.ipynb",
      "provenance": [],
      "authorship_tag": "ABX9TyPgZfVxOwRj8ncvFR2vO5tH",
      "include_colab_link": true
    },
    "kernelspec": {
      "name": "python3",
      "display_name": "Python 3"
    },
    "language_info": {
      "name": "python"
    }
  },
  "cells": [
    {
      "cell_type": "markdown",
      "metadata": {
        "id": "view-in-github",
        "colab_type": "text"
      },
      "source": [
        "<a href=\"https://colab.research.google.com/github/Sra1panasa/Deep-Learning/blob/main/Generic_info.ipynb\" target=\"_parent\"><img src=\"https://colab.research.google.com/assets/colab-badge.svg\" alt=\"Open In Colab\"/></a>"
      ]
    },
    {
      "cell_type": "markdown",
      "source": [
        "Generic information:\n",
        "\n",
        "\n",
        "* Why is it called Hugging Face?\n",
        "\n",
        "  Named based on popular emoji, Hugging Face was founded by Clément Delangue and Julien Chaumond in 2016. ... Recently, Hugging Face raised $40 million in Series B funding led by Addition.\n",
        "\n",
        "* Who runs Hugging Face?\n",
        "\n",
        "  Hugging Face is an artificial Intelligence company founded in 2016 by Julien Chaumond. **Hugging Face is a company which develops social AI-run chatbot applications**. It was established in 2016 by Clement Delangue and Julien Chaumond. The company is based in Brooklyn, New York, United States.\n",
        "\n",
        "* Is Hugging Face free to use?\n",
        "\n",
        "  This course will teach you about natural language processing (NLP) using libraries from the Hugging Face ecosystem — 🤗 Transformers, 🤗 Datasets, 🤗 Tokenizers, and 🤗 Accelerate — as well as the Hugging Face Hub. It's completely free and without ads.\n",
        "\n",
        "\n",
        "\n",
        "\n"
      ],
      "metadata": {
        "id": "jnsKyDh_ndx0"
      }
    }
  ]
}