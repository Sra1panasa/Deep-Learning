{
  "nbformat": 4,
  "nbformat_minor": 0,
  "metadata": {
    "colab": {
      "name": "Untitled1.ipynb",
      "provenance": [],
      "authorship_tag": "ABX9TyOvShUdJn78AUaAje8+EqcF",
      "include_colab_link": true
    },
    "kernelspec": {
      "name": "python3",
      "display_name": "Python 3"
    },
    "language_info": {
      "name": "python"
    }
  },
  "cells": [
    {
      "cell_type": "markdown",
      "metadata": {
        "id": "view-in-github",
        "colab_type": "text"
      },
      "source": [
        "<a href=\"https://colab.research.google.com/github/Sra1panasa/Deep-Learning/blob/main/Hyperparameters.ipynb\" target=\"_parent\"><img src=\"https://colab.research.google.com/assets/colab-badge.svg\" alt=\"Open In Colab\"/></a>"
      ]
    },
    {
      "cell_type": "markdown",
      "metadata": {
        "id": "u27qXb4RnYGt"
      },
      "source": [
        "**Object Detection:**\n",
        "\n",
        "* Batch size is a term used in machine learning and refers to the number of training examples utilized in one iteration\n",
        "\n",
        "* The number of training examples used in the estimate of the error gradient is a hyperparameter for the learning algorithm called the “batch size,” or simply the “batch.”\n",
        "\n",
        "* A batch size of 32 means that 32 samples from the training dataset will be used to estimate the error gradient before the model weights are updated. One training epoch means that the learning algorithm has made one pass through the training dataset, where examples were separated into randomly selected “batch size” groups.\n",
        "\n",
        "* one epoch = one forward pass and one backward pass of all the training examples\n",
        "batch size = the number of training examples in one forward/backward pass. The higher the batch size, the more memory space you'll need.\n",
        "number of iterations = number of passes, each pass using [batch size] number of examples. To be clear, one pass = one forward pass + one backward pass (we do not count the forward pass and backward pass as two different passes).\n",
        "\n",
        " **Example if you have 1000 training examples, and your batch size is 500, then it will take 2 iterations to complete 1 epoch**\n",
        "\n",
        "\n"
      ]
    },
    {
      "cell_type": "markdown",
      "source": [
        "* The batch size defines the number of samples that will be propagated through the network.\n",
        "\n",
        "* For instance, let's say you have 1050 training samples and you want to set up a batch_size equal to 100. The algorithm takes the first 100 samples (from 1st to 100th) from the training dataset and trains the network. Next, it takes the second 100 samples (from 101st to 200th) and trains the network again. We can keep doing this procedure until we have propagated all samples through of the network. Problem might happen with the last set of samples. In our example, we've used 1050 which is not divisible by 100 without remainder. The simplest solution is just to get the final 50 samples and train the network."
      ],
      "metadata": {
        "id": "FbBNct47IWjP"
      }
    },
    {
      "cell_type": "markdown",
      "source": [
        "**Model Evaluation:** **Use of validation set**.\n",
        "\n",
        "* Model Evaluation is an integral part of the model development process. It helps to find the best model that represents our data and how well the chosen model will work in the future. Evaluating model performance with the data used for training is not acceptable in data science because it can easily generate overoptimistic and overfitted models. There are two methods of evaluating models in data science, Hold-Out and Cross-Validation. To avoid overfitting, both methods use a test set (not seen by the model) to evaluate model performance.\t\t\n",
        " \t\t\n"
      ],
      "metadata": {
        "id": "xOjoW2BJcH2t"
      }
    },
    {
      "cell_type": "markdown",
      "source": [
        "**Hold-Out**\t\t\n",
        "In this method, the mostly large dataset is randomly divided to three **subsets:**\t\t\n",
        "Training set:\n",
        "* a subset of the dataset used to build predictive models.\n",
        "\n",
        "**Validation set**:\n",
        "* is a subset of the dataset used to assess the performance of model built in the training phase. It provides a test platform for fine tuning model's parameters and selecting the best-performing model. Not all modeling algorithms need a validation set.\n",
        "\n",
        "Test set or unseen examples:\n",
        "\n",
        "* is a subset of the dataset to assess the likely future performance of a model. If a model fit to the training set much better than it fits the test set, overfitting is probably the cause.\n",
        " \t\t\n",
        "Cross-Validation\t\t\n",
        "When only a limited amount of data is available, to achieve an unbiased estimate of the model performance we use k-fold cross-validation. In k-fold cross-validation, we divide the data into k subsets of equal size. We build models k times, each time leaving out one of the subsets from training and use it as the test set. If k equals the sample size, this is called \"leave-one-out\".\n",
        "\n",
        "[link text](https://www.saedsayad.com/model_evaluation.htm)"
      ],
      "metadata": {
        "id": "PkiMaeY9cf_H"
      }
    },
    {
      "cell_type": "markdown",
      "source": [
        "**The Training Set**\n",
        "\n",
        "* The training set the largest corpus of your dataset that you reserve for training your model. After training, inference on these images will be taken with a grain of salt, since the model has already had a chance to look at and memorize the correct output.\n",
        "\n",
        "* For a default, we recommend allocating 70% of your dataset to the training set. (If you're an advanced user and feel comfortable not using defaults, we've made it easier for you to change these defaults in Roboflow.)\n",
        "\n",
        "**The Validation Set**\n",
        "\n",
        "* **The validation set is a separate section of your dataset that you will use during training to get a sense of how well your model is doing on images/datapoints that are not being used in training.**\n",
        "\n",
        "* During training, it is common to report validation metrics continually after each training epoch such as validation mAP or validation loss. You use these metrics to get a sense of when your model has hit the best performance it can reach on your validation set. You may choose to cease training at this point, a process called \"early stopping.\"\n",
        "\n",
        "* As you work on your model, you can continually iterate on your dataset, image augmentations, and model design to increase your model's performance on the validation set.\n",
        "\n",
        "* We recommend holding out 20% of your dataset for the validation set.\n",
        "\n",
        "**The Test Set**\n",
        "\n",
        "* After all of the training experiments have concluded, you probably have gotten a sense on how your model might do on the validation set. But it is important to remember that the validation set metrics may have influenced you during the creation of the model, and in this sense you might, as a designer, overfit the new model to the validation set.\n",
        "\n",
        "* Because the validation set is heavily used in model creation, it is important to hold back a completely separate stronghold of data - the test set. You can run evaluation metrics on the test set at the very end of your project, to get a sense of how well your model will do in production.  \n",
        "\n",
        "* We recommend allocating 10% of your dataset to the test set.\n",
        "\n",
        "[link text](https://blog.roboflow.com/train-test-split/)"
      ],
      "metadata": {
        "id": "p1eYKxxmnTGA"
      }
    },
    {
      "cell_type": "code",
      "source": [
        ""
      ],
      "metadata": {
        "id": "aHGZJJJToYb8"
      },
      "execution_count": null,
      "outputs": []
    }
  ]
}