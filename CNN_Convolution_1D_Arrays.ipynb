{
  "nbformat": 4,
  "nbformat_minor": 0,
  "metadata": {
    "colab": {
      "name": "Untitled8.ipynb",
      "provenance": [],
      "authorship_tag": "ABX9TyPttKas9GgrONJh/5C+czIS",
      "include_colab_link": true
    },
    "kernelspec": {
      "name": "python3",
      "display_name": "Python 3"
    },
    "language_info": {
      "name": "python"
    }
  },
  "cells": [
    {
      "cell_type": "markdown",
      "metadata": {
        "id": "view-in-github",
        "colab_type": "text"
      },
      "source": [
        "<a href=\"https://colab.research.google.com/github/Sra1panasa/Deep-Learning/blob/main/CNN_Convolution_1D_Arrays.ipynb\" target=\"_parent\"><img src=\"https://colab.research.google.com/assets/colab-badge.svg\" alt=\"Open In Colab\"/></a>"
      ]
    },
    {
      "cell_type": "markdown",
      "source": [
        "**Convolution Program:**\n",
        "\n",
        "1) multiplying two 1d arrays.\n",
        "\n",
        "to knw how multiplication happens visit below link\n",
        "\n",
        "[link](https://www.youtube.com/watch?v=yd_j_zdLDWs&t=215s)\n",
        "\n",
        "\n"
      ],
      "metadata": {
        "id": "U0pfaVaR66Eo"
      }
    },
    {
      "cell_type": "code",
      "source": [
        "# Approach 1\n",
        "import numpy as np\n",
        "F = [1, 2, 3,4,5,6,7,8,9,10]\n",
        "G = [1,1]\n",
        "C = list(np.convolve(F,G))\n",
        "del C[0]\n",
        "del C[-1]\n",
        "print(C)"
      ],
      "metadata": {
        "colab": {
          "base_uri": "https://localhost:8080/"
        },
        "id": "zv-AbOp07J8j",
        "outputId": "b8b83f99-4511-40d7-c6f1-fcab463e7248"
      },
      "execution_count": 1,
      "outputs": [
        {
          "output_type": "stream",
          "name": "stdout",
          "text": [
            "[3, 5, 7, 9, 11, 13, 15, 17, 19]\n"
          ]
        }
      ]
    },
    {
      "cell_type": "code",
      "source": [
        "# approach 2 - need to adjust\n",
        "input = [1,2,3,4,5,6,7,8,9,10]\n",
        "kernal = [1,1]\n",
        "for i in range(0,len(input)-1):\n",
        "    input[i] = int((input[i]*1)+(input[i+1]*1))\n",
        "print(input)"
      ],
      "metadata": {
        "id": "U0If8KsQ7gf7"
      },
      "execution_count": null,
      "outputs": []
    },
    {
      "cell_type": "code",
      "source": [
        "# approach 3 - need to adjust\n",
        "input = [1,2,3,4,5,6,7,8,9,10]\n",
        "kernal = [1,1]\n",
        "result=[]\n",
        "print(len(kernal))\n",
        "print((kernal[1]))\n",
        "for i in range(0,len(input)-1):\n",
        "    count=0\n",
        "    sum=0\n",
        "    j = i\n",
        "    for k in range(0,len(kernal)):\n",
        "\n",
        "        if(count<=len(kernal)):\n",
        "            sum+=input[j]*kernal[k]\n",
        "            j=+1\n",
        "\n",
        "    result.append(sum)\n",
        "    if i==8:\n",
        "        break\n",
        "    #l1[i] = int((l1[i]*1)+(l1[i+1]*1))\n",
        "print(result)"
      ],
      "metadata": {
        "id": "jK5Tl7HB7vaN"
      },
      "execution_count": null,
      "outputs": []
    }
  ]
}